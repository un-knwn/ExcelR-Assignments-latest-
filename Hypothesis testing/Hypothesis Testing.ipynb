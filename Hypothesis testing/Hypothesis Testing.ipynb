{
 "cells": [
  {
   "cell_type": "markdown",
   "id": "9cb8beb9-1c51-4753-b977-bd53819b138e",
   "metadata": {},
   "source": [
    "                                                      Hypothesis Testing"
   ]
  },
  {
   "cell_type": "code",
   "execution_count": 2,
   "id": "9ea25f07-5474-4eae-bdef-e1afc524f697",
   "metadata": {},
   "outputs": [],
   "source": [
    "# CHI-SQUARE TEST\n",
    "# Association between Device Type and Customer Satisfaction\n",
    "\n",
    "# Background:\n",
    "# Mizzare Corporation has collected data on customer satisfaction levels for two types of smart home devices: Smart Thermostats and \n",
    "# Smart Lights. They want to determine if there's a significant association between the type of device purchased and the customer's \n",
    "# satisfaction level.\n",
    "\n",
    "# Data Provided:\n",
    "# The data is summarized in a contingency table showing the counts of customers in each satisfaction level for both types of devices:\n",
    "# Satisfaction\tSmart Thermostat\tSmart Light\tTotal\n",
    "# Very Satisfied\t50\t70\t120\n",
    "# Satisfied\t80\t100\t180\n",
    "# Neutral\t60\t90\t150\n",
    "# Unsatisfied\t30\t50\t80\n",
    "# Very Unsatisfied\t20\t50\t70\n",
    "# Total\t240\t360\t600\n",
    "\n",
    "# Objective:\n",
    "# To use the Chi-Square test for independence to determine if there's a significant association between the type of smart home \n",
    "# device purchased (Smart Thermostats vs. Smart Lights) and the customer satisfaction level.\n",
    "\n",
    "# Assignment Tasks:\n",
    "# 1. State the Hypotheses:\n",
    "# 2. Compute the Chi-Square Statistic:\n",
    "# 3. Determine the Critical Value:\n",
    "# Using the significance level (alpha) of 0.05 and the degrees of freedom (which is the number of categories minus 1)\n",
    "# 4. Make a Decision:\n",
    "# Compare the Chi-Square statistic with the critical value to decide whether to reject the null hypothesis.\n",
    "# Submission Guidelines:\n",
    "# •\tProvide a detailed report of your analysis, including each step outlined in the assignment tasks in a python file.\n",
    "# •\tInclude all calculations, the Chi-Square statistic, the critical value, and your conclusion.\n"
   ]
  },
  {
   "cell_type": "code",
   "execution_count": 3,
   "id": "ccfc4776-eedd-4ed6-b33b-d0c4b84ee08f",
   "metadata": {},
   "outputs": [],
   "source": [
    "import pandas as pd"
   ]
  },
  {
   "cell_type": "code",
   "execution_count": 4,
   "id": "51c14162-20d7-428c-b0ff-8d45f680e842",
   "metadata": {},
   "outputs": [
    {
     "data": {
      "text/html": [
       "<div>\n",
       "<style scoped>\n",
       "    .dataframe tbody tr th:only-of-type {\n",
       "        vertical-align: middle;\n",
       "    }\n",
       "\n",
       "    .dataframe tbody tr th {\n",
       "        vertical-align: top;\n",
       "    }\n",
       "\n",
       "    .dataframe thead th {\n",
       "        text-align: right;\n",
       "    }\n",
       "</style>\n",
       "<table border=\"1\" class=\"dataframe\">\n",
       "  <thead>\n",
       "    <tr style=\"text-align: right;\">\n",
       "      <th></th>\n",
       "      <th>Smart Thermostat</th>\n",
       "      <th>Smart Light Total</th>\n",
       "    </tr>\n",
       "    <tr>\n",
       "      <th>Satisfaction</th>\n",
       "      <th></th>\n",
       "      <th></th>\n",
       "    </tr>\n",
       "  </thead>\n",
       "  <tbody>\n",
       "    <tr>\n",
       "      <th>Very Satisfied</th>\n",
       "      <td>50</td>\n",
       "      <td>70</td>\n",
       "    </tr>\n",
       "    <tr>\n",
       "      <th>Satisfied</th>\n",
       "      <td>80</td>\n",
       "      <td>100</td>\n",
       "    </tr>\n",
       "    <tr>\n",
       "      <th>Neutral</th>\n",
       "      <td>60</td>\n",
       "      <td>90</td>\n",
       "    </tr>\n",
       "    <tr>\n",
       "      <th>Unsatisfied</th>\n",
       "      <td>30</td>\n",
       "      <td>50</td>\n",
       "    </tr>\n",
       "    <tr>\n",
       "      <th>Very Unsatisfied</th>\n",
       "      <td>20</td>\n",
       "      <td>50</td>\n",
       "    </tr>\n",
       "  </tbody>\n",
       "</table>\n",
       "</div>"
      ],
      "text/plain": [
       "                  Smart Thermostat  Smart Light Total\n",
       "Satisfaction                                         \n",
       "Very Satisfied                  50                 70\n",
       "Satisfied                       80                100\n",
       "Neutral                         60                 90\n",
       "Unsatisfied                     30                 50\n",
       "Very Unsatisfied                20                 50"
      ]
     },
     "execution_count": 4,
     "metadata": {},
     "output_type": "execute_result"
    }
   ],
   "source": [
    "CHI=pd.DataFrame({'Satisfaction':['Very Satisfied','Satisfied','Neutral','Unsatisfied','Very Unsatisfied'],'Smart Thermostat':[50,80,60,30,20],'Smart Light Total':[70,100,90,50,50]})\n",
    "CHI.set_index('Satisfaction',inplace=True)\n",
    "#CHI.reset_index()\n",
    "#CHI.info()\n",
    "CHI"
   ]
  },
  {
   "cell_type": "markdown",
   "id": "ef82ac2f-a5c7-436c-b04e-49aa09e384ae",
   "metadata": {},
   "source": [
    "Step 1 : Stating the Hypothesis "
   ]
  },
  {
   "cell_type": "code",
   "execution_count": 6,
   "id": "19178b94-b93b-46ba-91e9-faea26af435a",
   "metadata": {},
   "outputs": [],
   "source": [
    "# Statement:\n",
    "# H0: There is no significant association between the type of smart home device purchased and customer statisfaction level\n",
    "# H1: There is significant association between the type of smart home device purchased and customer statisfaction level"
   ]
  },
  {
   "cell_type": "markdown",
   "id": "c04aeb4c-d6ce-405d-93b7-b7018eed12ca",
   "metadata": {},
   "source": [
    "Step 2 : Computing chi-square stats"
   ]
  },
  {
   "cell_type": "code",
   "execution_count": 8,
   "id": "d9f5a07d-5df5-4764-92d0-8044c2c89b0a",
   "metadata": {},
   "outputs": [
    {
     "name": "stdout",
     "output_type": "stream",
     "text": [
      "Chi-Square Statistic: 5.638227513227513\n",
      "P-value: 0.22784371130697179\n",
      "Degrees of Freedom: 4\n",
      "Expected Frequencies:\n",
      " [[ 48.  72.]\n",
      " [ 72. 108.]\n",
      " [ 60.  90.]\n",
      " [ 32.  48.]\n",
      " [ 28.  42.]]\n"
     ]
    }
   ],
   "source": [
    "import numpy as np\n",
    "from scipy.stats import chi2_contingency,chi2\n",
    "\n",
    "# Perform the Chi-Square test\n",
    "chitwo, p, dof, expected = chi2_contingency(CHI)\n",
    "\n",
    "# Display the results\n",
    "print(f\"Chi-Square Statistic: {chitwo}\")\n",
    "print(f\"P-value: {p}\")\n",
    "print(f\"Degrees of Freedom: {dof}\")\n",
    "print(\"Expected Frequencies:\\n\", expected)"
   ]
  },
  {
   "cell_type": "markdown",
   "id": "60410e2f-e031-49e4-ba49-d867c8981fdd",
   "metadata": {},
   "source": [
    "Step 3 : Determining Critical value"
   ]
  },
  {
   "cell_type": "code",
   "execution_count": 10,
   "id": "03aae04b-7311-43f9-9cae-fad99f5e9a1a",
   "metadata": {},
   "outputs": [
    {
     "name": "stdout",
     "output_type": "stream",
     "text": [
      "critical value 9.487729036781154\n"
     ]
    }
   ],
   "source": [
    "# Set significance level\n",
    "alpha = 0.05\n",
    "\n",
    "# calculating critical val\n",
    "critical_value = chi2.ppf(1 - alpha, dof)\n",
    "print('critical value',critical_value)"
   ]
  },
  {
   "cell_type": "markdown",
   "id": "be5c1094-fff0-4e0e-b0ef-7f48a6e3ecdc",
   "metadata": {},
   "source": [
    "Step 4 : Making a Decision"
   ]
  },
  {
   "cell_type": "code",
   "execution_count": 12,
   "id": "0d5b2b07-c32f-4ed1-b19f-4ad63ce1c01f",
   "metadata": {},
   "outputs": [
    {
     "name": "stdout",
     "output_type": "stream",
     "text": [
      "Fail to reject the null hypothesis. There is no significant association between device type and satisfaction level.\n"
     ]
    }
   ],
   "source": [
    "# Decision\n",
    "if critical_value < alpha:\n",
    "    print(\"Reject the null hypothesis. There is a significant association between device type and satisfaction level.\")\n",
    "else:\n",
    "    print(\"Fail to reject the null hypothesis. There is no significant association between device type and satisfaction level.\")\n",
    "\n",
    "# Decision\n",
    "# if p < alpha:\n",
    "#     print(\"Reject the null hypothesis. There is a significant association between device type and satisfaction level.\")\n",
    "# else:\n",
    "#     print(\"Fail to reject the null hypothesis. There is no significant association between device type and satisfaction level.\")"
   ]
  },
  {
   "cell_type": "code",
   "execution_count": 13,
   "id": "e3080afe-0fb2-4b12-a175-7bdf68472fab",
   "metadata": {},
   "outputs": [],
   "source": [
    "#Since the critical val (9.48) is greater than the significance level (0.05), we fail to reject the null hypothesis, \n",
    "#meaning there is no significant association between the type of smart home device purchased and the customer satisfaction level."
   ]
  }
 ],
 "metadata": {
  "kernelspec": {
   "display_name": "Python 3 (ipykernel)",
   "language": "python",
   "name": "python3"
  },
  "language_info": {
   "codemirror_mode": {
    "name": "ipython",
    "version": 3
   },
   "file_extension": ".py",
   "mimetype": "text/x-python",
   "name": "python",
   "nbconvert_exporter": "python",
   "pygments_lexer": "ipython3",
   "version": "3.12.4"
  }
 },
 "nbformat": 4,
 "nbformat_minor": 5
}
