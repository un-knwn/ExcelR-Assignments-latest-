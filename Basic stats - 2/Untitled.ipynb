{
 "cells": [
  {
   "cell_type": "markdown",
   "id": "36852001-4147-4bad-b741-1182288daa9b",
   "metadata": {},
   "source": [
    "                                                 Basic Stats - 2"
   ]
  },
  {
   "cell_type": "code",
   "execution_count": 2,
   "id": "407a1054-e0da-4924-98be-1e154763f785",
   "metadata": {},
   "outputs": [],
   "source": [
    "# Background\n",
    "# In quality control processes, especially when dealing with high-value items, destructive sampling is a necessary but costly method to ensure product quality. The test to determine whether an item meets the quality standards destroys the item, leading to the requirement of small sample sizes due to cost constraints.\n",
    "\n",
    "# Scenario\n",
    "# A manufacturer of print-heads for personal computers is interested in estimating the mean durability of their print-heads in terms of the number of characters printed before failure. To assess this, the manufacturer conducts a study on a small sample of print-heads due to the destructive nature of the testing process.\n",
    "\n",
    "# Data\n",
    "# A total of 15 print-heads were randomly selected and tested until failure. The durability of each print-head (in millions of characters) was recorded as follows:\n",
    "# 1.13, 1.55, 1.43, 0.92, 1.25, 1.36, 1.32, 0.85, 1.07, 1.48, 1.20, 1.33, 1.18, 1.22, 1.29\n",
    "\n",
    "# Assignment Tasks\n",
    "\n",
    "# a. Build 99% Confidence Interval Using Sample Standard Deviation\n",
    "# Assuming the sample is representative of the population, construct a 99% confidence interval for the mean number of characters printed before the print-head fails using the sample standard deviation. Explain the steps you take and the rationale behind using the t-distribution for this task.\n",
    "\n",
    "# b. Build 99% Confidence Interval Using Known Population Standard Deviation\n",
    "# If it were known that the population standard deviation is 0.2 million characters, construct a 99% confidence interval for the mean number of characters printed before failure.\n"
   ]
  },
  {
   "cell_type": "code",
   "execution_count": 3,
   "id": "1052b8f6-b506-48d4-8afe-6bf14916f016",
   "metadata": {},
   "outputs": [],
   "source": [
    "import pandas as pd"
   ]
  },
  {
   "cell_type": "code",
   "execution_count": 4,
   "id": "5a5c08eb-3d11-42bb-bda4-9352adbe162e",
   "metadata": {},
   "outputs": [
    {
     "data": {
      "text/html": [
       "<div>\n",
       "<style scoped>\n",
       "    .dataframe tbody tr th:only-of-type {\n",
       "        vertical-align: middle;\n",
       "    }\n",
       "\n",
       "    .dataframe tbody tr th {\n",
       "        vertical-align: top;\n",
       "    }\n",
       "\n",
       "    .dataframe thead th {\n",
       "        text-align: right;\n",
       "    }\n",
       "</style>\n",
       "<table border=\"1\" class=\"dataframe\">\n",
       "  <thead>\n",
       "    <tr style=\"text-align: right;\">\n",
       "      <th></th>\n",
       "      <th>Data</th>\n",
       "    </tr>\n",
       "  </thead>\n",
       "  <tbody>\n",
       "    <tr>\n",
       "      <th>0</th>\n",
       "      <td>1.13</td>\n",
       "    </tr>\n",
       "    <tr>\n",
       "      <th>1</th>\n",
       "      <td>1.55</td>\n",
       "    </tr>\n",
       "    <tr>\n",
       "      <th>2</th>\n",
       "      <td>1.43</td>\n",
       "    </tr>\n",
       "    <tr>\n",
       "      <th>3</th>\n",
       "      <td>0.92</td>\n",
       "    </tr>\n",
       "    <tr>\n",
       "      <th>4</th>\n",
       "      <td>1.25</td>\n",
       "    </tr>\n",
       "  </tbody>\n",
       "</table>\n",
       "</div>"
      ],
      "text/plain": [
       "   Data\n",
       "0  1.13\n",
       "1  1.55\n",
       "2  1.43\n",
       "3  0.92\n",
       "4  1.25"
      ]
     },
     "execution_count": 4,
     "metadata": {},
     "output_type": "execute_result"
    }
   ],
   "source": [
    "BS2=pd.DataFrame([1.13, 1.55, 1.43, 0.92, 1.25, 1.36, 1.32, 0.85, 1.07, 1.48, 1.20, 1.33, 1.18, 1.22, 1.29],columns=(['Data']))\n",
    "BS2.head()"
   ]
  },
  {
   "cell_type": "code",
   "execution_count": 5,
   "id": "0949077d-dc17-4c52-aa39-1265833b8ec9",
   "metadata": {},
   "outputs": [],
   "source": [
    "# a. Build 99% Confidence Interval Using Sample Standard Deviation"
   ]
  },
  {
   "cell_type": "code",
   "execution_count": 6,
   "id": "ccb89ba4-e098-44db-a603-82e9efa19af2",
   "metadata": {},
   "outputs": [
    {
     "name": "stdout",
     "output_type": "stream",
     "text": [
      "mean:  1.2386666666666666\n",
      "stdev: 0.19316412956959936\n"
     ]
    },
    {
     "data": {
      "text/plain": [
       "(1.0901973384384906, 1.3871359948948425)"
      ]
     },
     "execution_count": 6,
     "metadata": {},
     "output_type": "execute_result"
    }
   ],
   "source": [
    "import numpy as np\n",
    "import scipy.stats as stats\n",
    "# Calculate sample mean and standard deviation\n",
    "mean = BS2['Data'].mean()\n",
    "print('mean: ',mean)\n",
    "std_dev = BS2['Data'].std(ddof=1)  # Sample standard deviation (ddof=1)\n",
    "print('stdev:',std_dev)\n",
    "n = len(BS2)  # Sample size\n",
    "\n",
    "# Step 2: Determine the t-critical value for a 99% confidence interval\n",
    "confidence_level = 0.99\n",
    "alpha = 1 - confidence_level\n",
    "degrees_of_freedom = n - 1\n",
    "\n",
    "confidence_interval = stats.t.interval(\n",
    "    confidence_level,  # Confidence level (99%)\n",
    "    degrees_of_freedom,  # Degrees of freedom (n-1)\n",
    "    loc=mean,  # Sample mean\n",
    "    scale=std_dev / np.sqrt(n)  # Standard error of the mean\n",
    ")\n",
    "confidence_interval\n",
    "\n",
    "#Method-2\n",
    "# t_critical = stats.t.ppf(1 - alpha/2, degrees_of_freedom)\n",
    "# # Step 3: Calculate the margin of error\n",
    "# margin_of_error = t_critical * (std_dev / np.sqrt(n))\n",
    "# # Step 4: Calculate the confidence interval\n",
    "# lower_bound = mean - margin_of_error\n",
    "# upper_bound = mean + margin_of_error\n",
    "# print('confidence interval: \\n','lower bound: ',lower_bound ,'upper bound',upper_bound)"
   ]
  },
  {
   "cell_type": "code",
   "execution_count": 7,
   "id": "42efbb8c-c0d9-4c01-9558-27cfca7b5820",
   "metadata": {},
   "outputs": [],
   "source": [
    "# Explanation:\n",
    "# The 99% confidence interval gives a range of values within which we are 99% confident that population mean lies.\n",
    "# We used the t-distribution because the population standard deviation is unknown and the sample size is small.This gives a more\n",
    "# reliable interval estimate of the population mean when working with sample data.\n",
    "# This output means that we are 99% confident that the true population mean lies between (1.0901973384384906, 1.3871359948948425)"
   ]
  },
  {
   "cell_type": "code",
   "execution_count": 8,
   "id": "032a6c09-a600-496f-809f-67c7073a77da",
   "metadata": {},
   "outputs": [],
   "source": [
    "# b. Build 99% Confidence Interval Using Known Population Standard Deviation"
   ]
  },
  {
   "cell_type": "code",
   "execution_count": 9,
   "id": "3b2aac17-2c9c-470e-808c-22aab4bfc636",
   "metadata": {},
   "outputs": [
    {
     "data": {
      "text/plain": [
       "(1.1056514133957607, 1.3716819199375725)"
      ]
     },
     "execution_count": 9,
     "metadata": {},
     "output_type": "execute_result"
    }
   ],
   "source": [
    "# Calculate the sample mean\n",
    "mean = BS2['Data'].mean()\n",
    "\n",
    "# Known population standard deviation\n",
    "population_std_dev = 0.2  # Given\n",
    "\n",
    "# Calculate the sample size\n",
    "n = len(BS2)\n",
    "\n",
    "# Calculate the 99% confidence interval using the inbuilt function\n",
    "confidence_level = 0.99\n",
    "confidence_interval = stats.norm.interval(confidence_level, loc=mean, scale= population_std_dev / np.sqrt(n))#scale=standard-error\n",
    "\n",
    "confidence_interval\n",
    "\n",
    "# Method-2\n",
    "# # Determine the z-critical value for a 99% confidence interval\n",
    "# confidence_level = 0.99\n",
    "# z_critical = stats.norm.ppf(1 - (1 - confidence_level) / 2)  # Z-critical value for 99% confidence\n",
    "# # Calculate the margin of error\n",
    "# margin_of_error = z_critical * (population_std_dev / np.sqrt(n))\n",
    "# # Calculate the confidence interval\n",
    "# lower_bound = mean - margin_of_error\n",
    "# upper_bound = mean + margin_of_error\n",
    "# (lower_bound, upper_bound)"
   ]
  },
  {
   "cell_type": "code",
   "execution_count": 10,
   "id": "6dc64c10-4061-4597-8d19-76a4d8e0d7b1",
   "metadata": {},
   "outputs": [],
   "source": [
    "# Explanation:\n",
    "# We are 99% confident that true population mean number of characters printed before failure lies between (1.1056514133957607, 1.3716819199375725) million characters."
   ]
  },
  {
   "cell_type": "code",
   "execution_count": null,
   "id": "19cfef96-6dae-4f97-8eef-21d33802b921",
   "metadata": {},
   "outputs": [],
   "source": []
  }
 ],
 "metadata": {
  "kernelspec": {
   "display_name": "Python 3 (ipykernel)",
   "language": "python",
   "name": "python3"
  },
  "language_info": {
   "codemirror_mode": {
    "name": "ipython",
    "version": 3
   },
   "file_extension": ".py",
   "mimetype": "text/x-python",
   "name": "python",
   "nbconvert_exporter": "python",
   "pygments_lexer": "ipython3",
   "version": "3.12.4"
  }
 },
 "nbformat": 4,
 "nbformat_minor": 5
}
