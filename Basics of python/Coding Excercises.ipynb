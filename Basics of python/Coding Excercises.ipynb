{
 "cells": [
  {
   "cell_type": "markdown",
   "id": "69a051aa-1d4c-4ede-827e-1c2b868313dc",
   "metadata": {},
   "source": [
    "                                                 Coding Excercises"
   ]
  },
  {
   "cell_type": "code",
   "execution_count": 2,
   "id": "1d44ed35-ac7e-4512-a58f-4b1d558fe6ab",
   "metadata": {},
   "outputs": [],
   "source": [
    "# Exercise 1: Prime Numbers\n",
    "# Write a Python program that checks whether a given number is prime or not. A prime number is a natural number greater than 1 that \n",
    "# has no positive divisors other than 1 and itself."
   ]
  },
  {
   "cell_type": "code",
   "execution_count": 3,
   "id": "06d590aa-9412-4cc7-96ca-092e37e6f6c9",
   "metadata": {},
   "outputs": [],
   "source": [
    "#Prime numbers are numbers greater than 1 that have no divisors other than 1 and the number itself."
   ]
  },
  {
   "cell_type": "code",
   "execution_count": 4,
   "id": "29d9f6f9-d00d-45be-880d-79e2f0f45b8c",
   "metadata": {},
   "outputs": [],
   "source": [
    "def PN(n):\n",
    "    if n <= 1:\n",
    "        return (n,'is Not a Prime Number')\n",
    "    for i in range(2, n):\n",
    "        if n % i == 0:\n",
    "            return (n,'is Not a Prime Number')\n",
    "    return (n,'is a Prime Number')"
   ]
  },
  {
   "cell_type": "code",
   "execution_count": 5,
   "id": "cdb163b5-bbe6-4c68-8dbc-15ae84a58758",
   "metadata": {},
   "outputs": [
    {
     "data": {
      "text/plain": [
       "(4, 'is Not a Prime Number')"
      ]
     },
     "execution_count": 5,
     "metadata": {},
     "output_type": "execute_result"
    }
   ],
   "source": [
    "PN(4)"
   ]
  },
  {
   "cell_type": "code",
   "execution_count": 6,
   "id": "e0f75caa-cc9a-422a-bf7b-921c60a8f72f",
   "metadata": {},
   "outputs": [],
   "source": [
    "#Method-2\n",
    "# def PN(n):\n",
    "#     if n <= 1:\n",
    "#         return False\n",
    "#     for i in range(2, n):\n",
    "#         if n % i == 0:\n",
    "#             return False\n",
    "#     return True\n",
    "\n",
    "# # Input from the user\n",
    "# num = int(input(\"Enter a number: \"))\n",
    "\n",
    "# # Output the result\n",
    "# if PN(num):\n",
    "#     print(f\"{num} is a prime number.\")\n",
    "# else:\n",
    "#     print(f\"{num} is not a prime number.\")"
   ]
  },
  {
   "cell_type": "code",
   "execution_count": null,
   "id": "3c19e46f-c6af-4b8e-86fc-6a41f04e9273",
   "metadata": {},
   "outputs": [],
   "source": []
  },
  {
   "cell_type": "code",
   "execution_count": 7,
   "id": "23ff6576-71f0-457a-9b75-3bd3dbd72cc3",
   "metadata": {},
   "outputs": [],
   "source": [
    "# Exercise 2: Product of Random Numbers\n",
    "# Develop a Python program that generates two random numbers and asks the user to enter the product of these numbers. The program \n",
    "# should then check if the user's answer is correct and display an appropriate message."
   ]
  },
  {
   "cell_type": "code",
   "execution_count": 8,
   "id": "7f22b52d-b537-4c9d-b853-e323d0b8477a",
   "metadata": {},
   "outputs": [
    {
     "name": "stdin",
     "output_type": "stream",
     "text": [
      "What is 1 * 8?  8\n"
     ]
    },
    {
     "name": "stdout",
     "output_type": "stream",
     "text": [
      "Correct!\n"
     ]
    }
   ],
   "source": [
    "import random\n",
    "\n",
    "# Generate two random numbers between 1 and 10\n",
    "num1 = random.randint(1, 10)\n",
    "num2 = random.randint(1, 10)\n",
    "\n",
    "# Ask the user for the product of the two numbers\n",
    "user_answer = int(input(f\"What is {num1} * {num2}? \"))\n",
    "\n",
    "# Calculate the correct product\n",
    "correct_answer = num1 * num2\n",
    "\n",
    "# Check if the user's answer is correct\n",
    "if user_answer == correct_answer:\n",
    "    print(\"Correct!\")\n",
    "else:\n",
    "    print(f\"Incorrect. The correct answer is {correct_answer}.\")\n"
   ]
  },
  {
   "cell_type": "code",
   "execution_count": null,
   "id": "c3327434-cbf3-49ba-96a3-3cd344131dc9",
   "metadata": {},
   "outputs": [],
   "source": []
  },
  {
   "cell_type": "code",
   "execution_count": 9,
   "id": "8b301aaf-0b41-47b9-bae1-d87693dd876e",
   "metadata": {},
   "outputs": [],
   "source": [
    "# Exercise 3: Squares of Even/Odd Numbers\n",
    "# Create a Python script that prints the squares of all even or odd numbers within the range of 100 to 200. Choose either even or \n",
    "# odd numbers and document your choice in the code."
   ]
  },
  {
   "cell_type": "code",
   "execution_count": 10,
   "id": "e160489d-57c1-467d-9ebb-c07d125681df",
   "metadata": {},
   "outputs": [
    {
     "name": "stdin",
     "output_type": "stream",
     "text": [
      "Do you want to print the squares of even or odd numbers? (enter 'even' or 'odd'):  odd\n"
     ]
    },
    {
     "name": "stdout",
     "output_type": "stream",
     "text": [
      "The square of 101 is 10201\n",
      "The square of 103 is 10609\n",
      "The square of 105 is 11025\n",
      "The square of 107 is 11449\n",
      "The square of 109 is 11881\n",
      "The square of 111 is 12321\n",
      "The square of 113 is 12769\n",
      "The square of 115 is 13225\n",
      "The square of 117 is 13689\n",
      "The square of 119 is 14161\n",
      "The square of 121 is 14641\n",
      "The square of 123 is 15129\n",
      "The square of 125 is 15625\n",
      "The square of 127 is 16129\n",
      "The square of 129 is 16641\n",
      "The square of 131 is 17161\n",
      "The square of 133 is 17689\n",
      "The square of 135 is 18225\n",
      "The square of 137 is 18769\n",
      "The square of 139 is 19321\n",
      "The square of 141 is 19881\n",
      "The square of 143 is 20449\n",
      "The square of 145 is 21025\n",
      "The square of 147 is 21609\n",
      "The square of 149 is 22201\n",
      "The square of 151 is 22801\n",
      "The square of 153 is 23409\n",
      "The square of 155 is 24025\n",
      "The square of 157 is 24649\n",
      "The square of 159 is 25281\n",
      "The square of 161 is 25921\n",
      "The square of 163 is 26569\n",
      "The square of 165 is 27225\n",
      "The square of 167 is 27889\n",
      "The square of 169 is 28561\n",
      "The square of 171 is 29241\n",
      "The square of 173 is 29929\n",
      "The square of 175 is 30625\n",
      "The square of 177 is 31329\n",
      "The square of 179 is 32041\n",
      "The square of 181 is 32761\n",
      "The square of 183 is 33489\n",
      "The square of 185 is 34225\n",
      "The square of 187 is 34969\n",
      "The square of 189 is 35721\n",
      "The square of 191 is 36481\n",
      "The square of 193 is 37249\n",
      "The square of 195 is 38025\n",
      "The square of 197 is 38809\n",
      "The square of 199 is 39601\n"
     ]
    }
   ],
   "source": [
    "# Ask the user to choose between even or odd numbers\n",
    "choice = input(\"Do you want to print the squares of even or odd numbers? (enter 'even' or 'odd'): \").lower()\n",
    "\n",
    "# Ensure valid input\n",
    "if choice not in ['even', 'odd']:\n",
    "    print(\"Invalid choice. Please enter 'even' or 'odd'.\")\n",
    "else:\n",
    "    # Loop through the range of 100 to 200\n",
    "    for i in range(100, 201):\n",
    "        if choice == 'even' and i % 2 == 0:\n",
    "            print(f\"The square of {i} is {i**2}\")\n",
    "        elif choice == 'odd' and i % 2 != 0:\n",
    "            print(f\"The square of {i} is {i**2}\")\n"
   ]
  },
  {
   "cell_type": "code",
   "execution_count": null,
   "id": "2ea6f621-5409-4529-b320-358e00b2a423",
   "metadata": {},
   "outputs": [],
   "source": []
  },
  {
   "cell_type": "code",
   "execution_count": 11,
   "id": "bc81aa05-424f-4937-876c-d980734af480",
   "metadata": {},
   "outputs": [],
   "source": [
    "# Exercise 4: Word counter\n",
    "# write a program to count the number of words in a given text.\n",
    "# example:\n",
    "# input_text = \"This is a sample text. This text will be used to demonstrate the word counter.\"\n",
    "# Expected output:\n",
    "# 'This': 2 \n",
    "# 'is': 1\n",
    "# 'a': 1\n",
    "# 'sample': 1\n",
    "# 'text.': 1"
   ]
  },
  {
   "cell_type": "code",
   "execution_count": 12,
   "id": "3748092f-bd75-45b0-a94f-b191ebd9e19d",
   "metadata": {},
   "outputs": [
    {
     "name": "stdout",
     "output_type": "stream",
     "text": [
      "dict_items([('This', 2), ('is', 1), ('a', 1), ('sample', 1), ('text.', 1), ('text', 1), ('will', 1), ('be', 1), ('used', 1), ('to', 1), ('demonstrate', 1), ('the', 1), ('word', 1), ('counter.', 1)])\n"
     ]
    }
   ],
   "source": [
    "# Input text\n",
    "input_text = \"This is a sample text. This text will be used to demonstrate the word counter.\"\n",
    "\n",
    "# Split the text into words\n",
    "words = input_text.split()\n",
    "#print(words)\n",
    "# Create a dictionary to store word counts\n",
    "word_count = {}\n",
    "\n",
    "# Loop through each word in the text\n",
    "for i in words:\n",
    "    # Count occurrences of each word (case-sensitive)\n",
    "    if i in word_count:\n",
    "        word_count[i] += 1\n",
    "    else:\n",
    "        word_count[i] = 1\n",
    "\n",
    "# Output the word count\n",
    "# for i, count in word_count.items():\n",
    "#     print(f\"'{i}': {count}\\n\")\n",
    "print(word_count.items())"
   ]
  },
  {
   "cell_type": "code",
   "execution_count": null,
   "id": "f3db2714-c7e1-46d7-a673-2d0453f7c8ae",
   "metadata": {},
   "outputs": [],
   "source": []
  },
  {
   "cell_type": "code",
   "execution_count": 13,
   "id": "b1537738-3991-4444-af09-c915e72f5bd6",
   "metadata": {},
   "outputs": [],
   "source": [
    "# Exercise 5: Check for Palindrome\n",
    "# Write a Python function called is_palindrome that takes a string as input and returns True if the string is a palindrome, and \n",
    "# False otherwise. A palindrome is a word, phrase, number, or other sequence of characters that reads the same forward and backward, \n",
    "# ignoring spaces, punctuation, and capitalization.\n",
    "# Example:\n",
    "# Input: \"racecar\"\n",
    "# Expected Output: True\\"
   ]
  },
  {
   "cell_type": "code",
   "execution_count": 14,
   "id": "569d46a5-f671-4493-babf-3557b68b5e73",
   "metadata": {},
   "outputs": [
    {
     "name": "stdin",
     "output_type": "stream",
     "text": [
      " IRFANNAFRI\n"
     ]
    },
    {
     "name": "stdout",
     "output_type": "stream",
     "text": [
      "is a palindrome\n"
     ]
    }
   ],
   "source": [
    "import string\n",
    "\n",
    "def is_palindrome(S):\n",
    "    # Remove spaces, punctuation, and convert to lowercase\n",
    "    cleaned_string = ''.join(i.lower() for i in S if i.isalnum())\n",
    "    \n",
    "    # Check if the cleaned string is the same forward and backward\n",
    "    if cleaned_string == cleaned_string[::-1]:\n",
    "        return ('is a palindrome')\n",
    "    else:\n",
    "        return ('is not a palindrome')\n",
    "#    return cleaned_string == cleaned_string[::-1]\n",
    "\n",
    "# Input example\n",
    "input_text = input()\n",
    "print(is_palindrome(input_text))  # Should return True\n"
   ]
  }
 ],
 "metadata": {
  "kernelspec": {
   "display_name": "Python 3 (ipykernel)",
   "language": "python",
   "name": "python3"
  },
  "language_info": {
   "codemirror_mode": {
    "name": "ipython",
    "version": 3
   },
   "file_extension": ".py",
   "mimetype": "text/x-python",
   "name": "python",
   "nbconvert_exporter": "python",
   "pygments_lexer": "ipython3",
   "version": "3.12.4"
  }
 },
 "nbformat": 4,
 "nbformat_minor": 5
}
